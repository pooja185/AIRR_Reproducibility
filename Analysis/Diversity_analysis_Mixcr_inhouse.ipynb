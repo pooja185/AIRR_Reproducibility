{
 "cells": [
  {
   "cell_type": "markdown",
   "metadata": {
    "id": "LCaJS8l6bVUd"
   },
   "source": [
    "Step 1 - Import python libraries"
   ]
  },
  {
   "cell_type": "code",
   "execution_count": 1,
   "metadata": {
    "id": "9bBYu120mKtm"
   },
   "outputs": [],
   "source": [
    "from IPython import get_ipython\n",
    "import matplotlib.pyplot as plt\n",
    "from scipy import stats\n",
    "import seaborn as sns\n",
    "import pandas as pd\n",
    "import numpy as np\n",
    "\n",
    "pd.options.mode.chained_assignment = None"
   ]
  },
  {
   "cell_type": "markdown",
   "metadata": {
    "id": "UFiLjqTDYzFK"
   },
   "source": [
    "Step 2 - Load and read your data file\n",
    "- pyTCR accepts a single `.csv` file that should contain all the samples.\n",
    "  - The following cell attempts to detect whether you are running the notebook in a Google Colab cloud environment or in a local environment, and then loads the data at the specified path.\n",
    "- The `filePath` variable in the following code cell should be changed to the location of your file. The following options are supported:\n",
    "  1. A `filePath` from Google Drive (to run on a cloud environment)\n",
    "  2. A `filePath` from your local computer (to run on a local environment, other cloud environments should work as expected)\n",
    "- Adjust the `optional_fields` according to your data"
   ]
  },
  {
   "cell_type": "code",
   "execution_count": 2,
   "metadata": {
    "id": "j4eKJSr6lGmU"
   },
   "outputs": [
    {
     "data": {
      "text/html": [
       "<div>\n",
       "<style scoped>\n",
       "    .dataframe tbody tr th:only-of-type {\n",
       "        vertical-align: middle;\n",
       "    }\n",
       "\n",
       "    .dataframe tbody tr th {\n",
       "        vertical-align: top;\n",
       "    }\n",
       "\n",
       "    .dataframe thead th {\n",
       "        text-align: right;\n",
       "    }\n",
       "</style>\n",
       "<table border=\"1\" class=\"dataframe\">\n",
       "  <thead>\n",
       "    <tr style=\"text-align: right;\">\n",
       "      <th></th>\n",
       "      <th>Unnamed: 0</th>\n",
       "      <th>sample</th>\n",
       "      <th>freq</th>\n",
       "      <th>#count</th>\n",
       "      <th>cdr3aa</th>\n",
       "      <th>cdr3nt</th>\n",
       "      <th>v</th>\n",
       "      <th>d</th>\n",
       "      <th>j</th>\n",
       "      <th>Type</th>\n",
       "    </tr>\n",
       "  </thead>\n",
       "  <tbody>\n",
       "    <tr>\n",
       "      <th>0</th>\n",
       "      <td>0</td>\n",
       "      <td>HD_30_S14_L001_original_MIXCR</td>\n",
       "      <td>0.0274990246433412</td>\n",
       "      <td>6837.0</td>\n",
       "      <td>CAGFSGGYQKVTF</td>\n",
       "      <td>TGTGCGGGCTTTTCTGGGGGTTACCAGAAAGTTACCTTT</td>\n",
       "      <td>TRAV5*00(3322.5)</td>\n",
       "      <td>.</td>\n",
       "      <td>TRAJ13*00(587.4)</td>\n",
       "      <td>Original_Mixcr</td>\n",
       "    </tr>\n",
       "    <tr>\n",
       "      <th>1</th>\n",
       "      <td>1</td>\n",
       "      <td>HD_30_S14_L001_original_MIXCR</td>\n",
       "      <td>0.0085791165078611</td>\n",
       "      <td>2133.0</td>\n",
       "      <td>CAVDSDNDMRF</td>\n",
       "      <td>TGTGCCGTGGACTCCGACAATGACATGCGCTTT</td>\n",
       "      <td>TRAV39*00(3400.2)</td>\n",
       "      <td>.</td>\n",
       "      <td>TRAJ43*00(478.3)</td>\n",
       "      <td>Original_Mixcr</td>\n",
       "    </tr>\n",
       "    <tr>\n",
       "      <th>2</th>\n",
       "      <td>2</td>\n",
       "      <td>HD_30_S14_L001_original_MIXCR</td>\n",
       "      <td>0.0043921215314507</td>\n",
       "      <td>1092.0</td>\n",
       "      <td>CATPYNFNKFYF</td>\n",
       "      <td>TGTGCTACGCCCTACAACTTCAACAAATTTTACTTT</td>\n",
       "      <td>TRAV17*00(3494)</td>\n",
       "      <td>.</td>\n",
       "      <td>TRAJ21*00(547.9)</td>\n",
       "      <td>Original_Mixcr</td>\n",
       "    </tr>\n",
       "    <tr>\n",
       "      <th>3</th>\n",
       "      <td>3</td>\n",
       "      <td>HD_30_S14_L001_original_MIXCR</td>\n",
       "      <td>0.004074376475604</td>\n",
       "      <td>1013.0</td>\n",
       "      <td>CAFGKGGSNYKLTF</td>\n",
       "      <td>TGTGCCTTCGGTAAGGGAGGTAGCAACTATAAACTGACATTT</td>\n",
       "      <td>TRAV24*00(3479.8)</td>\n",
       "      <td>.</td>\n",
       "      <td>TRAJ53*00(576.9)</td>\n",
       "      <td>Original_Mixcr</td>\n",
       "    </tr>\n",
       "    <tr>\n",
       "      <th>4</th>\n",
       "      <td>4</td>\n",
       "      <td>HD_30_S14_L001_original_MIXCR</td>\n",
       "      <td>0.003941647528225</td>\n",
       "      <td>980.0</td>\n",
       "      <td>CLVGDRGNFNKFYF</td>\n",
       "      <td>TGCCTCGTGGGTGACCGGGGCAACTTCAACAAATTTTACTTT</td>\n",
       "      <td>TRAV4*00(3363.9)</td>\n",
       "      <td>.</td>\n",
       "      <td>TRAJ21*00(527.8)</td>\n",
       "      <td>Original_Mixcr</td>\n",
       "    </tr>\n",
       "  </tbody>\n",
       "</table>\n",
       "</div>"
      ],
      "text/plain": [
       "   Unnamed: 0                         sample                freq  #count  \\\n",
       "0           0  HD_30_S14_L001_original_MIXCR  0.0274990246433412  6837.0   \n",
       "1           1  HD_30_S14_L001_original_MIXCR  0.0085791165078611  2133.0   \n",
       "2           2  HD_30_S14_L001_original_MIXCR  0.0043921215314507  1092.0   \n",
       "3           3  HD_30_S14_L001_original_MIXCR   0.004074376475604  1013.0   \n",
       "4           4  HD_30_S14_L001_original_MIXCR   0.003941647528225   980.0   \n",
       "\n",
       "           cdr3aa                                      cdr3nt  \\\n",
       "0   CAGFSGGYQKVTF     TGTGCGGGCTTTTCTGGGGGTTACCAGAAAGTTACCTTT   \n",
       "1     CAVDSDNDMRF           TGTGCCGTGGACTCCGACAATGACATGCGCTTT   \n",
       "2    CATPYNFNKFYF        TGTGCTACGCCCTACAACTTCAACAAATTTTACTTT   \n",
       "3  CAFGKGGSNYKLTF  TGTGCCTTCGGTAAGGGAGGTAGCAACTATAAACTGACATTT   \n",
       "4  CLVGDRGNFNKFYF  TGCCTCGTGGGTGACCGGGGCAACTTCAACAAATTTTACTTT   \n",
       "\n",
       "                   v  d                 j            Type  \n",
       "0   TRAV5*00(3322.5)  .  TRAJ13*00(587.4)  Original_Mixcr  \n",
       "1  TRAV39*00(3400.2)  .  TRAJ43*00(478.3)  Original_Mixcr  \n",
       "2    TRAV17*00(3494)  .  TRAJ21*00(547.9)  Original_Mixcr  \n",
       "3  TRAV24*00(3479.8)  .  TRAJ53*00(576.9)  Original_Mixcr  \n",
       "4   TRAV4*00(3363.9)  .  TRAJ21*00(527.8)  Original_Mixcr  "
      ]
     },
     "execution_count": 2,
     "metadata": {},
     "output_type": "execute_result"
    }
   ],
   "source": [
    "# Specify the path to your data in Google Drive or locally\n",
    "filePath = \"/scratch1/pjaiswal/ipynb_notebooks/master_files/MIXCR_inhouse_all.csv\" # or \"/content/drive/MyDrive/combined_data.csv\"\n",
    "\n",
    "df = pd.read_csv(filePath, low_memory=False, engine=\"c\")\n",
    "\n",
    "optional_fields = ['Type']\n",
    "\n",
    "df.head()"
   ]
  },
  {
   "cell_type": "code",
   "execution_count": 3,
   "metadata": {
    "id": "TM_0L9NMm4J8"
   },
   "outputs": [],
   "source": [
    "# Create a dataframe with reads count for each sample\n",
    "df_reads = df.groupby(['sample', 'Type']).agg(\n",
    "    {'#count': 'sum'}).reset_index().rename(columns={'#count': \"count\"})\n",
    "\n",
    "# Create a dataframe with clonotype count for each sample\n",
    "df_diversity = df.groupby(['sample', 'Type'], sort=False).size().reset_index(name='clonotype_count')"
   ]
  },
  {
   "cell_type": "code",
   "execution_count": 4,
   "metadata": {
    "id": "4s64SXhQBxEL"
   },
   "outputs": [
    {
     "data": {
      "text/html": [
       "<div>\n",
       "<style scoped>\n",
       "    .dataframe tbody tr th:only-of-type {\n",
       "        vertical-align: middle;\n",
       "    }\n",
       "\n",
       "    .dataframe tbody tr th {\n",
       "        vertical-align: top;\n",
       "    }\n",
       "\n",
       "    .dataframe thead th {\n",
       "        text-align: right;\n",
       "    }\n",
       "</style>\n",
       "<table border=\"1\" class=\"dataframe\">\n",
       "  <thead>\n",
       "    <tr style=\"text-align: right;\">\n",
       "      <th></th>\n",
       "      <th>Unnamed: 0</th>\n",
       "      <th>sample</th>\n",
       "      <th>freq</th>\n",
       "      <th>#count</th>\n",
       "      <th>cdr3aa</th>\n",
       "      <th>cdr3nt</th>\n",
       "      <th>v</th>\n",
       "      <th>d</th>\n",
       "      <th>j</th>\n",
       "      <th>Type</th>\n",
       "      <th>clonotype_count</th>\n",
       "    </tr>\n",
       "  </thead>\n",
       "  <tbody>\n",
       "    <tr>\n",
       "      <th>0</th>\n",
       "      <td>0</td>\n",
       "      <td>HD_30_S14_L001_original_MIXCR</td>\n",
       "      <td>0.0274990246433412</td>\n",
       "      <td>6837.0</td>\n",
       "      <td>CAGFSGGYQKVTF</td>\n",
       "      <td>TGTGCGGGCTTTTCTGGGGGTTACCAGAAAGTTACCTTT</td>\n",
       "      <td>TRAV5*00(3322.5)</td>\n",
       "      <td>.</td>\n",
       "      <td>TRAJ13*00(587.4)</td>\n",
       "      <td>Original_Mixcr</td>\n",
       "      <td>122503</td>\n",
       "    </tr>\n",
       "    <tr>\n",
       "      <th>1</th>\n",
       "      <td>1</td>\n",
       "      <td>HD_30_S14_L001_original_MIXCR</td>\n",
       "      <td>0.0085791165078611</td>\n",
       "      <td>2133.0</td>\n",
       "      <td>CAVDSDNDMRF</td>\n",
       "      <td>TGTGCCGTGGACTCCGACAATGACATGCGCTTT</td>\n",
       "      <td>TRAV39*00(3400.2)</td>\n",
       "      <td>.</td>\n",
       "      <td>TRAJ43*00(478.3)</td>\n",
       "      <td>Original_Mixcr</td>\n",
       "      <td>122503</td>\n",
       "    </tr>\n",
       "    <tr>\n",
       "      <th>2</th>\n",
       "      <td>2</td>\n",
       "      <td>HD_30_S14_L001_original_MIXCR</td>\n",
       "      <td>0.0043921215314507</td>\n",
       "      <td>1092.0</td>\n",
       "      <td>CATPYNFNKFYF</td>\n",
       "      <td>TGTGCTACGCCCTACAACTTCAACAAATTTTACTTT</td>\n",
       "      <td>TRAV17*00(3494)</td>\n",
       "      <td>.</td>\n",
       "      <td>TRAJ21*00(547.9)</td>\n",
       "      <td>Original_Mixcr</td>\n",
       "      <td>122503</td>\n",
       "    </tr>\n",
       "    <tr>\n",
       "      <th>3</th>\n",
       "      <td>3</td>\n",
       "      <td>HD_30_S14_L001_original_MIXCR</td>\n",
       "      <td>0.004074376475604</td>\n",
       "      <td>1013.0</td>\n",
       "      <td>CAFGKGGSNYKLTF</td>\n",
       "      <td>TGTGCCTTCGGTAAGGGAGGTAGCAACTATAAACTGACATTT</td>\n",
       "      <td>TRAV24*00(3479.8)</td>\n",
       "      <td>.</td>\n",
       "      <td>TRAJ53*00(576.9)</td>\n",
       "      <td>Original_Mixcr</td>\n",
       "      <td>122503</td>\n",
       "    </tr>\n",
       "    <tr>\n",
       "      <th>4</th>\n",
       "      <td>4</td>\n",
       "      <td>HD_30_S14_L001_original_MIXCR</td>\n",
       "      <td>0.003941647528225</td>\n",
       "      <td>980.0</td>\n",
       "      <td>CLVGDRGNFNKFYF</td>\n",
       "      <td>TGCCTCGTGGGTGACCGGGGCAACTTCAACAAATTTTACTTT</td>\n",
       "      <td>TRAV4*00(3363.9)</td>\n",
       "      <td>.</td>\n",
       "      <td>TRAJ21*00(527.8)</td>\n",
       "      <td>Original_Mixcr</td>\n",
       "      <td>122503</td>\n",
       "    </tr>\n",
       "    <tr>\n",
       "      <th>...</th>\n",
       "      <td>...</td>\n",
       "      <td>...</td>\n",
       "      <td>...</td>\n",
       "      <td>...</td>\n",
       "      <td>...</td>\n",
       "      <td>...</td>\n",
       "      <td>...</td>\n",
       "      <td>...</td>\n",
       "      <td>...</td>\n",
       "      <td>...</td>\n",
       "      <td>...</td>\n",
       "    </tr>\n",
       "    <tr>\n",
       "      <th>3807203</th>\n",
       "      <td>1955743</td>\n",
       "      <td>RS_11_YZ_shuffle</td>\n",
       "      <td>1.2317192337064074e-05</td>\n",
       "      <td>3.0</td>\n",
       "      <td>CASSLAWVGTNTEAFF</td>\n",
       "      <td>TGCGCCAGCAGCTTGGCCTGGGTGGGGACGAACACTGAAGCTTTCTTT</td>\n",
       "      <td>TRBV5-1*00(3543.7)</td>\n",
       "      <td>TRBD1*00(25),TRBD2*00(25)</td>\n",
       "      <td>TRBJ1-1*00(470)</td>\n",
       "      <td>Shuffle_Mixcr</td>\n",
       "      <td>26697</td>\n",
       "    </tr>\n",
       "    <tr>\n",
       "      <th>3807204</th>\n",
       "      <td>1955744</td>\n",
       "      <td>RS_11_YZ_shuffle</td>\n",
       "      <td>8.211461558042716e-06</td>\n",
       "      <td>2.0</td>\n",
       "      <td>CASRKTTPIASGRITDTQYF</td>\n",
       "      <td>TGTGCCAGCAGGAAGACGACACCCATAGCTAGCGGGAGGATCACAG...</td>\n",
       "      <td>TRBV7-8*00(1196)</td>\n",
       "      <td>TRBD2*00(55)</td>\n",
       "      <td>TRBJ2-3*00(470)</td>\n",
       "      <td>Shuffle_Mixcr</td>\n",
       "      <td>26697</td>\n",
       "    </tr>\n",
       "    <tr>\n",
       "      <th>3807205</th>\n",
       "      <td>1955746</td>\n",
       "      <td>RS_11_YZ_shuffle</td>\n",
       "      <td>8.211461558042716e-06</td>\n",
       "      <td>2.0</td>\n",
       "      <td>CAGSIDGGNQPQHF</td>\n",
       "      <td>TGTGCCGGTAGTATAGATGGAGGAAATCAGCCCCAGCATTTT</td>\n",
       "      <td>TRBV19*00(3293)</td>\n",
       "      <td>TRBD2*00(25)</td>\n",
       "      <td>TRBJ1-5*00(460)</td>\n",
       "      <td>Shuffle_Mixcr</td>\n",
       "      <td>26697</td>\n",
       "    </tr>\n",
       "    <tr>\n",
       "      <th>3807206</th>\n",
       "      <td>1955747</td>\n",
       "      <td>RS_11_YZ_shuffle</td>\n",
       "      <td>8.211461558042716e-06</td>\n",
       "      <td>2.0</td>\n",
       "      <td>CSVARITSGRFYEQYF</td>\n",
       "      <td>TGCAGCGTTGCCCGAATTACTAGCGGGAGATTCTACGAGCAGTACTTC</td>\n",
       "      <td>TRBV29-1*00(3420)</td>\n",
       "      <td>TRBD2*00(35)</td>\n",
       "      <td>TRBJ2-7*00(452)</td>\n",
       "      <td>Shuffle_Mixcr</td>\n",
       "      <td>26697</td>\n",
       "    </tr>\n",
       "    <tr>\n",
       "      <th>3807207</th>\n",
       "      <td>1955748</td>\n",
       "      <td>RS_11_YZ_shuffle</td>\n",
       "      <td>8.211461558042716e-06</td>\n",
       "      <td>2.0</td>\n",
       "      <td>CASSLALTSDGYTF</td>\n",
       "      <td>TGCGCCAGCAGCTTGGCTCTGACTTCGGACGGCTACACCTTC</td>\n",
       "      <td>TRBV5-1*00(2077)</td>\n",
       "      <td>.</td>\n",
       "      <td>TRBJ1-2*00(400)</td>\n",
       "      <td>Shuffle_Mixcr</td>\n",
       "      <td>26697</td>\n",
       "    </tr>\n",
       "  </tbody>\n",
       "</table>\n",
       "<p>3807208 rows × 11 columns</p>\n",
       "</div>"
      ],
      "text/plain": [
       "         Unnamed: 0                         sample                    freq  \\\n",
       "0                 0  HD_30_S14_L001_original_MIXCR      0.0274990246433412   \n",
       "1                 1  HD_30_S14_L001_original_MIXCR      0.0085791165078611   \n",
       "2                 2  HD_30_S14_L001_original_MIXCR      0.0043921215314507   \n",
       "3                 3  HD_30_S14_L001_original_MIXCR       0.004074376475604   \n",
       "4                 4  HD_30_S14_L001_original_MIXCR       0.003941647528225   \n",
       "...             ...                            ...                     ...   \n",
       "3807203     1955743               RS_11_YZ_shuffle  1.2317192337064074e-05   \n",
       "3807204     1955744               RS_11_YZ_shuffle   8.211461558042716e-06   \n",
       "3807205     1955746               RS_11_YZ_shuffle   8.211461558042716e-06   \n",
       "3807206     1955747               RS_11_YZ_shuffle   8.211461558042716e-06   \n",
       "3807207     1955748               RS_11_YZ_shuffle   8.211461558042716e-06   \n",
       "\n",
       "         #count                cdr3aa  \\\n",
       "0        6837.0         CAGFSGGYQKVTF   \n",
       "1        2133.0           CAVDSDNDMRF   \n",
       "2        1092.0          CATPYNFNKFYF   \n",
       "3        1013.0        CAFGKGGSNYKLTF   \n",
       "4         980.0        CLVGDRGNFNKFYF   \n",
       "...         ...                   ...   \n",
       "3807203     3.0      CASSLAWVGTNTEAFF   \n",
       "3807204     2.0  CASRKTTPIASGRITDTQYF   \n",
       "3807205     2.0        CAGSIDGGNQPQHF   \n",
       "3807206     2.0      CSVARITSGRFYEQYF   \n",
       "3807207     2.0        CASSLALTSDGYTF   \n",
       "\n",
       "                                                    cdr3nt  \\\n",
       "0                  TGTGCGGGCTTTTCTGGGGGTTACCAGAAAGTTACCTTT   \n",
       "1                        TGTGCCGTGGACTCCGACAATGACATGCGCTTT   \n",
       "2                     TGTGCTACGCCCTACAACTTCAACAAATTTTACTTT   \n",
       "3               TGTGCCTTCGGTAAGGGAGGTAGCAACTATAAACTGACATTT   \n",
       "4               TGCCTCGTGGGTGACCGGGGCAACTTCAACAAATTTTACTTT   \n",
       "...                                                    ...   \n",
       "3807203   TGCGCCAGCAGCTTGGCCTGGGTGGGGACGAACACTGAAGCTTTCTTT   \n",
       "3807204  TGTGCCAGCAGGAAGACGACACCCATAGCTAGCGGGAGGATCACAG...   \n",
       "3807205         TGTGCCGGTAGTATAGATGGAGGAAATCAGCCCCAGCATTTT   \n",
       "3807206   TGCAGCGTTGCCCGAATTACTAGCGGGAGATTCTACGAGCAGTACTTC   \n",
       "3807207         TGCGCCAGCAGCTTGGCTCTGACTTCGGACGGCTACACCTTC   \n",
       "\n",
       "                          v                          d                 j  \\\n",
       "0          TRAV5*00(3322.5)                          .  TRAJ13*00(587.4)   \n",
       "1         TRAV39*00(3400.2)                          .  TRAJ43*00(478.3)   \n",
       "2           TRAV17*00(3494)                          .  TRAJ21*00(547.9)   \n",
       "3         TRAV24*00(3479.8)                          .  TRAJ53*00(576.9)   \n",
       "4          TRAV4*00(3363.9)                          .  TRAJ21*00(527.8)   \n",
       "...                     ...                        ...               ...   \n",
       "3807203  TRBV5-1*00(3543.7)  TRBD1*00(25),TRBD2*00(25)   TRBJ1-1*00(470)   \n",
       "3807204    TRBV7-8*00(1196)               TRBD2*00(55)   TRBJ2-3*00(470)   \n",
       "3807205     TRBV19*00(3293)               TRBD2*00(25)   TRBJ1-5*00(460)   \n",
       "3807206   TRBV29-1*00(3420)               TRBD2*00(35)   TRBJ2-7*00(452)   \n",
       "3807207    TRBV5-1*00(2077)                          .   TRBJ1-2*00(400)   \n",
       "\n",
       "                   Type  clonotype_count  \n",
       "0        Original_Mixcr           122503  \n",
       "1        Original_Mixcr           122503  \n",
       "2        Original_Mixcr           122503  \n",
       "3        Original_Mixcr           122503  \n",
       "4        Original_Mixcr           122503  \n",
       "...                 ...              ...  \n",
       "3807203   Shuffle_Mixcr            26697  \n",
       "3807204   Shuffle_Mixcr            26697  \n",
       "3807205   Shuffle_Mixcr            26697  \n",
       "3807206   Shuffle_Mixcr            26697  \n",
       "3807207   Shuffle_Mixcr            26697  \n",
       "\n",
       "[3807208 rows x 11 columns]"
      ]
     },
     "execution_count": 4,
     "metadata": {},
     "output_type": "execute_result"
    }
   ],
   "source": [
    "# Add clonotype count of each sample as a column to create a new dataframe\n",
    "df = pd.merge(df, df_diversity, on=['sample', 'Type'])\n",
    "\n",
    "df"
   ]
  },
  {
   "cell_type": "markdown",
   "metadata": {
    "id": "Bs6F2zfmmogx"
   },
   "source": [
    "Diversity analysis 1 - Shannon-Wiener index [shannon_wiener_index]"
   ]
  },
  {
   "cell_type": "code",
   "execution_count": 5,
   "metadata": {},
   "outputs": [],
   "source": [
    "df['#count']=pd.to_numeric(df['#count'], errors='coerce')\n",
    "df['freq']=pd.to_numeric(df['freq'], errors='coerce')"
   ]
  },
  {
   "cell_type": "code",
   "execution_count": 6,
   "metadata": {
    "id": "XgHqKRKymg79"
   },
   "outputs": [],
   "source": [
    "# Calculation step 1\n",
    "df['shannon_index'] = -(df['freq']*np.log(df['freq']))\n",
    "\n",
    "# Calculation step 2\n",
    "df_shannon = df.groupby(['sample', 'Type']).agg(\n",
    "    {'shannon_index': 'sum'}).reset_index().rename(columns={'': \"shannon_index\"})\n",
    "\n",
    "# Calculation step 3, Shannon-Wienex index is shown in the shannon_wiener_index column\n",
    "df_shannon['shannon_wiener_index'] = np.exp(df_shannon['shannon_index'])\n",
    "df_shannon_index = df_shannon[['sample', 'Type', 'shannon_wiener_index']]"
   ]
  },
  {
   "cell_type": "markdown",
   "metadata": {
    "id": "hyT94i0vmwRT"
   },
   "source": [
    "Diversity analysis 2 - Normalized Shannon-Wiener index [normalized_shannon_wiener_index]"
   ]
  },
  {
   "cell_type": "code",
   "execution_count": 7,
   "metadata": {
    "id": "wfM-LCoDmwxH"
   },
   "outputs": [],
   "source": [
    "# Calculation step 1 - merge df_shannon and df_diversity (which contains clonotype counts)\n",
    "df_shannon = pd.merge(df_shannon, df_diversity, on=[\n",
    "                      'sample', 'Type'])\n",
    "\n",
    "# Calculation step 2 - calculate normalized Shannon-Wienex index, it is shown in the normalized_shannon_wiener_index column\n",
    "df_shannon['normalized_shannon_wiener_index'] = df_shannon['shannon_index'] / \\\n",
    "    np.log(df_shannon['clonotype_count'])\n",
    "\n",
    "df_norm_shannon = df_shannon[['sample', 'Type','shannon_wiener_index', 'normalized_shannon_wiener_index']]"
   ]
  },
  {
   "cell_type": "markdown",
   "metadata": {
    "id": "4V8KvFgQnDfR"
   },
   "source": [
    "Diversity analysis 3 - Inverse Simpson index [inverse_simpson_index]"
   ]
  },
  {
   "cell_type": "code",
   "execution_count": 8,
   "metadata": {
    "id": "zfL2ttlAnEXi"
   },
   "outputs": [],
   "source": [
    "# Calculation step 1\n",
    "df['simpson_index'] = (df['freq']**2)\n",
    "\n",
    "# Calculation step 2\n",
    "df_simpson = df.groupby(['sample', 'Type']).agg(\n",
    "    {'simpson_index': 'sum'}).reset_index().rename(columns={'': \"simpson_index\"})\n",
    "\n",
    "# Calculation step 3, Inverse Simpson index is shown in the inverse_simpson_index column\n",
    "df_simpson['inverse_simpson_index'] = 1/df_simpson['simpson_index']"
   ]
  },
  {
   "cell_type": "markdown",
   "metadata": {
    "id": "8OG6dxToxMP_"
   },
   "source": [
    "Diversity analysis 4 - Gini Simpson index [gini_simpson_index]\n"
   ]
  },
  {
   "cell_type": "code",
   "execution_count": 11,
   "metadata": {
    "id": "NEaKFHevxRx6"
   },
   "outputs": [],
   "source": [
    "df_simpson['gini_simpson_index'] = 1-df_simpson['simpson_index']"
   ]
  },
  {
   "cell_type": "markdown",
   "metadata": {
    "id": "ZtIH43jnrvLz"
   },
   "source": [
    "Diversity analysis 5 - D50 index [D50_index]\n"
   ]
  },
  {
   "cell_type": "code",
   "execution_count": 9,
   "metadata": {
    "id": "EZITswYRT4HM"
   },
   "outputs": [],
   "source": [
    "# Create an empty dataframe for storing results\n",
    "df_D50 = pd.DataFrame()\n",
    "\n",
    "# Create a list of the sample names\n",
    "samples = set(df['sample'])\n",
    "\n",
    "for sample in samples:\n",
    "\n",
    "    # Store the rows related to the sample\n",
    "    df_temp = df.loc[df['sample'] == sample]\n",
    "\n",
    "    # Sort the sample clonotypes by frequency in descending order\n",
    "    df_temp = df_temp.sort_values(by='freq', ascending=False)\n",
    "\n",
    "    # Create a column to store the order\n",
    "    df_temp['clonotype_number'] = np.arange(df_temp.shape[0])+1\n",
    "\n",
    "    # Compute and store the cumulative sum of the frequencies\n",
    "    df_temp['accum_freq'] = df_temp['freq'].cumsum()\n",
    "\n",
    "    # Find out the first accumulated frequency that is above 50%\n",
    "    df_temp = df_temp.loc[(df_temp['accum_freq'] >= 0.5)\n",
    "                          & (df_temp['accum_freq'] <= 0.6)]\n",
    "    df_temp = df_temp.head(1)\n",
    "\n",
    "    # Calculate D50 index and store in the result dataframe\n",
    "    df_temp = df_temp.head(1)\n",
    "    df_temp['D50_index'] = df_temp['clonotype_number'] / \\\n",
    "        df_temp['clonotype_count']*100\n",
    "    df_D50 = pd.concat([df_D50, df_temp])\n",
    "\n",
    "df_D50 = df_D50[['sample', 'Type', 'D50_index']]"
   ]
  },
  {
   "cell_type": "markdown",
   "metadata": {
    "id": "9e4Vj3PQiSpp"
   },
   "source": [
    "Diversity analysis 6 - Chao1 estimate [chao1] and standard deviation [chao1_SD]\n",
    "\n",
    "\n",
    "\n",
    "\n",
    "\n"
   ]
  },
  {
   "cell_type": "code",
   "execution_count": 10,
   "metadata": {
    "id": "WIo-FtKeMXkb"
   },
   "outputs": [],
   "source": [
    "# Create an empty dataframe for storing results\n",
    "df_chao1 = pd.DataFrame()\n",
    "\n",
    "# Get the columns needed for calculation from df\n",
    "df1 = df[['sample', '#count', 'clonotype_count', 'Type']]\n",
    "\n",
    "# Create a list of the sample names\n",
    "samples = set(df1['sample'])\n",
    "\n",
    "for sample in samples:\n",
    "\n",
    "    # Store the rows related to the sample\n",
    "    df_temp = df1.loc[df1['sample'] == sample]\n",
    "\n",
    "    # Count singleton in the sample\n",
    "    singleton = len(df_temp.loc[df_temp['#count'] == 1])\n",
    "\n",
    "    # Count doubleton in the sample\n",
    "    doubleton = len(df_temp.loc[df_temp['#count'] == 2])\n",
    "\n",
    "    # Calculate Chao1 estimate\n",
    "    chao1 = int(df_temp['clonotype_count'].values[0]) + \\\n",
    "        ((singleton * (singleton-1))/(2*(doubleton+1)))\n",
    "    df_temp['chao1'] = chao1\n",
    "\n",
    "    # Calculate Chao1 estimate standard deviation\n",
    "    step1 = 1/4*((singleton/doubleton)**4)\n",
    "    step2 = (singleton/doubleton)**3\n",
    "    step3 = 1/2*((singleton/doubleton)**2)\n",
    "    step4 = doubleton * (step1+step2+step3)\n",
    "    df_temp['chao1_SD'] = step4**(1/2)\n",
    "\n",
    "    # Store the results in the result dataframe\n",
    "    df_chao1 = pd.concat([df_chao1, df_temp], axis=0, sort=False)\n",
    "\n",
    "    # Remove the duplicates results in the result dataframe\n",
    "    df_chao1 = df_chao1[['sample', 'Type', 'chao1', 'chao1_SD']]\n",
    "    df_chao1 = df_chao1.drop_duplicates(subset=['sample'], keep='first')"
   ]
  },
  {
   "cell_type": "markdown",
   "metadata": {
    "id": "PV7hqBMDAVsf"
   },
   "source": [
    "Diversity analysis 7 - Gini coefficient [gini_coefficient]"
   ]
  },
  {
   "cell_type": "code",
   "execution_count": 11,
   "metadata": {
    "id": "XKfpM0-xTf3Z"
   },
   "outputs": [],
   "source": [
    "# Create an empty dataframe for storing results\n",
    "df_gini = pd.DataFrame()\n",
    "\n",
    "# Create a list of the sample names\n",
    "samples = set(df['sample'])\n",
    "\n",
    "for sample in samples:\n",
    "\n",
    "    # Store the rows related to the sample\n",
    "    df_temp = df.loc[df['sample'] == sample]\n",
    "\n",
    "    def gini(list_of_values):\n",
    "        sorted_list = sorted(list_of_values)\n",
    "        height, area = 0, 0\n",
    "        for value in sorted_list:\n",
    "            height += value\n",
    "            area += height - value / 2.\n",
    "        fair_area = height * len(list_of_values) / 2.\n",
    "        return (fair_area - area) / fair_area\n",
    "\n",
    "    # Calculate gini coefficient\n",
    "    df_temp['gini_coefficient'] = gini(df_temp['freq'])\n",
    "\n",
    "    # Store the results in the result dataframe\n",
    "    df_gini = pd.concat([df_gini, df_temp], sort=False)\n",
    "\n",
    "    # Remove the duplicates results in the result dataframe\n",
    "    df_gini = df_gini[['sample', 'Type', 'gini_coefficient']]\n",
    "    df_gini = df_gini.drop_duplicates(subset=['sample'], keep='first')"
   ]
  },
  {
   "cell_type": "markdown",
   "metadata": {
    "id": "rDtm47SLrtsY"
   },
   "source": [
    "Diversity analysis 8 - Summary table for the diversity analysis"
   ]
  },
  {
   "cell_type": "code",
   "execution_count": 15,
   "metadata": {
    "id": "-G01YeresGRR"
   },
   "outputs": [],
   "source": [
    "# Create a dataframe that combines all the diversity analysis\n",
    "dfs = [df_norm_shannon, df_simpson, df_D50, df_chao1, df_gini]\n",
    "\n",
    "df_combined = pd.merge(dfs[0], dfs[1], left_on=['sample', 'Type'], right_on=[\n",
    "                       'sample', 'Type'], how='outer')\n",
    "\n",
    "for d in dfs[2:]:\n",
    "    df_combined = pd.merge(df_combined, d, left_on=['sample', 'Type'], right_on=[\n",
    "                           'sample', 'Type'], how='outer')\n",
    "\n",
    "df_combined\n",
    "df_combined.to_csv('/scratch1/pjaiswal/figures/diversity_MIXCR_inhouse.csv', index=False)"
   ]
  },
  {
   "cell_type": "markdown",
   "metadata": {
    "id": "7LQwMFNxsF15"
   },
   "source": [
    "Diversity analysis 9 - Statistical analysis of diversity metrics"
   ]
  },
  {
   "cell_type": "markdown",
   "metadata": {
    "id": "z5e94C_rtEN4"
   },
   "source": [
    "Diversity 9.1 - Mean or median of diversity metrics among groups\n",
    "1.   if the dataset is normally distributed, calculate mean\n",
    "2.   if the dataset is not normally distributed, calculate median"
   ]
  },
  {
   "cell_type": "code",
   "execution_count": 18,
   "metadata": {
    "id": "8GWc40-itn0G"
   },
   "outputs": [],
   "source": [
    "# Calculate the mean among two groups\n",
    "df_combined_mean = pd.DataFrame(columns=['Type'])\n",
    "\n",
    "for column in df_combined[['shannon_wiener_index', 'normalized_shannon_wiener_index', 'inverse_simpson_index', 'D50_index', 'chao1']]:\n",
    "    df_temp = df_combined.groupby('Type')[\n",
    "        column].mean().reset_index()\n",
    "    df_combined_mean = pd.merge(df_combined_mean, df_temp, on=[\n",
    "                                'Type'], how='right')\n",
    "\n",
    "df_combined_mean\n",
    "df_combined_mean.to_csv('/scratch1/pjaiswal/figures/mean_diversity_metrics_basedontype_MIXCR_inhouse.csv', index=False)"
   ]
  },
  {
   "cell_type": "code",
   "execution_count": null,
   "metadata": {
    "id": "s2AgGAImxOp9",
    "scrolled": true
   },
   "outputs": [],
   "source": [
    "# Calculate the median among two groups\n",
    "df_combined_median = pd.DataFrame(columns=['Type'])\n",
    "for column in df_combined[['shannon_wiener_index', 'normalized_shannon_wiener_index', 'inverse_simpson_index', 'gini_simpson_index', 'D50_index', 'chao1', 'gini_coefficient']]:\n",
    "    df_temp = df_combined.groupby('Type')[\n",
    "        column].median().reset_index()\n",
    "    df_combined_median = pd.merge(df_combined_median, df_temp, on=[\n",
    "                                  'Type'], how='right')\n",
    "\n",
    "df_combined_median"
   ]
  },
  {
   "cell_type": "markdown",
   "metadata": {
    "id": "YFd5BVWlDoq_"
   },
   "source": [
    "Diversity analysis 9.2 - Test if the certain diversity metric is normally distributed\n",
    "1.   the null hypothesis here is normality\n",
    "2.   if the p value is greater than 0.05, we cannot reject the null hypothesis (it is a normal distribution). If the p value is smaller than 0.05, we reject the null hypothesis (it is not a normal distribution)\n",
    "3.   change the \"shannon_wiener_index\" to other metrics that you are interested in"
   ]
  },
  {
   "cell_type": "code",
   "execution_count": null,
   "metadata": {
    "id": "3Ar-jp29C83I"
   },
   "outputs": [],
   "source": [
    "x = stats.normaltest(df_combined['shannon_wiener_index'])\n",
    "x"
   ]
  },
  {
   "cell_type": "markdown",
   "metadata": {
    "id": "f32EBKhih6q2"
   },
   "source": [
    "Diversity analysis 9.3 - Stats test\n",
    "1.  if the dataset is normally distributed, use t-test (stats.ttest_ind)\n",
    "\n",
    "*   change the group1, group2 to the groups/samples that you are interested in\n",
    "*   change the \"shannon_wiener_index\" to other metrics that you are interested in\n",
    "\n",
    "2.  if the dataset is not normally distributed, use Wilcoxon rank-sum test (stats.ranksums)\n",
    "*   change the group1, group2 to the groups/samples that you are interested in\n",
    "*   change the \"shannon_wiener_index\" to other metrics that you are interested in"
   ]
  },
  {
   "cell_type": "code",
   "execution_count": 21,
   "metadata": {
    "id": "eB5ukA4oilsh"
   },
   "outputs": [
    {
     "name": "stderr",
     "output_type": "stream",
     "text": [
      "/home1/pjaiswal/.local/lib/python3.12/site-packages/scipy/stats/_stats_py.py:9154: RuntimeWarning: invalid value encountered in scalar divide\n",
      "  z = (s - expected) / np.sqrt(n1*n2*(n1+n2+1)/12.0)\n"
     ]
    },
    {
     "data": {
      "text/plain": [
       "RanksumsResult(statistic=nan, pvalue=nan)"
      ]
     },
     "execution_count": 21,
     "metadata": {},
     "output_type": "execute_result"
    }
   ],
   "source": [
    "df_group1 = df_combined[df_combined['Type'] == True]\n",
    "df_group2 = df_combined[df_combined['Type'] == False]\n",
    "\n",
    "stats.ranksums(df_group1['shannon_wiener_index'],df_group2['shannon_wiener_index'])"
   ]
  },
  {
   "cell_type": "markdown",
   "metadata": {
    "id": "vBGAPH1wU-k0"
   },
   "source": [
    "Diversity analysis 10 - Visualization\n",
    "1.   change x = 'hospitalized' to the diversity index that you are interested\n",
    "2.   change y = 'shannon_wiener_index' to the index that you desire\n",
    "3.   change the violin plot (sns.violinplot) to the plot type that you are interested in, includes strip plot (sns.stripplot), swarm plot (sns.swarmplot), box plot (sns.boxplot), boxen plot (sns.boxenplot), point plot (sns.pointplot), and bar plot (sns.barplot)\n",
    "4.   set x label to the feature that you choose\n",
    "5.   set y label to the index that you choose"
   ]
  },
  {
   "cell_type": "code",
   "execution_count": 14,
   "metadata": {
    "id": "wtOHFMS3U6-V"
   },
   "outputs": [
    {
     "data": {
      "image/png": "[encoded data removed]",
      "text/plain": [
       "<Figure size 1000x1000 with 1 Axes>"
      ]
     },
     "metadata": {},
     "output_type": "display_data"
    }
   ],
   "source": [
    "ax = plt.subplots(figsize=(10, 10))\n",
    "\n",
    "ax = sns.barplot(x='Type',\n",
    "                 y='shannon_wiener_index', hue='Type', data=df_combined)\n",
    "\n",
    "ax.set_xlabel('Type', fontsize=20)\n",
    "ax.set_ylabel('shannon_wiener_index', fontsize=20)\n",
    "plt.xticks(fontsize=20)\n",
    "plt.yticks(fontsize=20)\n",
    "sns.despine()\n",
    "\n",
    "plt.show()"
   ]
  },
  {
   "cell_type": "code",
   "execution_count": null,
   "metadata": {},
   "outputs": [],
   "source": []
  }
 ],
 "metadata": {
  "accelerator": "GPU",
  "colab": {
   "name": "Diversity analysis_COVID.ipynb",
   "provenance": []
  },
  "kernelspec": {
   "display_name": "Python 3.12.2 (default)",
   "language": "python",
   "name": "python3"
  },
  "language_info": {
   "codemirror_mode": {
    "name": "ipython",
    "version": 3
   },
   "file_extension": ".py",
   "mimetype": "text/x-python",
   "name": "python",
   "nbconvert_exporter": "python",
   "pygments_lexer": "ipython3",
   "version": "3.12.2"
  }
 },
 "nbformat": 4,
 "nbformat_minor": 4
}
