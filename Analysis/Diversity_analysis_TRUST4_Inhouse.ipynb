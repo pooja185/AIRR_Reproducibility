{
 "cells": [
  {
   "cell_type": "markdown",
   "metadata": {
    "id": "LCaJS8l6bVUd"
   },
   "source": [
    "Step 1 - Import python libraries"
   ]
  },
  {
   "cell_type": "code",
   "execution_count": 1,
   "metadata": {
    "id": "9bBYu120mKtm"
   },
   "outputs": [],
   "source": [
    "from IPython import get_ipython\n",
    "import matplotlib.pyplot as plt\n",
    "from scipy import stats\n",
    "import seaborn as sns\n",
    "import pandas as pd\n",
    "import numpy as np\n",
    "\n",
    "pd.options.mode.chained_assignment = None"
   ]
  },
  {
   "cell_type": "markdown",
   "metadata": {
    "id": "UFiLjqTDYzFK"
   },
   "source": [
    "Step 2 - Load and read your data file\n",
    "- pyTCR accepts a single `.csv` file that should contain all the samples.\n",
    "  - The following cell attempts to detect whether you are running the notebook in a Google Colab cloud environment or in a local environment, and then loads the data at the specified path.\n",
    "- The `filePath` variable in the following code cell should be changed to the location of your file. The following options are supported:\n",
    "  1. A `filePath` from Google Drive (to run on a cloud environment)\n",
    "  2. A `filePath` from your local computer (to run on a local environment, other cloud environments should work as expected)\n",
    "- Adjust the `optional_fields` according to your data"
   ]
  },
  {
   "cell_type": "code",
   "execution_count": 2,
   "metadata": {
    "id": "j4eKJSr6lGmU"
   },
   "outputs": [
    {
     "data": {
      "text/html": [
       "<div>\n",
       "<style scoped>\n",
       "    .dataframe tbody tr th:only-of-type {\n",
       "        vertical-align: middle;\n",
       "    }\n",
       "\n",
       "    .dataframe tbody tr th {\n",
       "        vertical-align: top;\n",
       "    }\n",
       "\n",
       "    .dataframe thead th {\n",
       "        text-align: right;\n",
       "    }\n",
       "</style>\n",
       "<table border=\"1\" class=\"dataframe\">\n",
       "  <thead>\n",
       "    <tr style=\"text-align: right;\">\n",
       "      <th></th>\n",
       "      <th>sample</th>\n",
       "      <th>freq</th>\n",
       "      <th>#count</th>\n",
       "      <th>cdr3aa</th>\n",
       "      <th>cdr3nt</th>\n",
       "      <th>v</th>\n",
       "      <th>d</th>\n",
       "      <th>j</th>\n",
       "      <th>Type</th>\n",
       "    </tr>\n",
       "  </thead>\n",
       "  <tbody>\n",
       "    <tr>\n",
       "      <th>0</th>\n",
       "      <td>HD_23_S7_L001_original_TRUST4</td>\n",
       "      <td>0.055397</td>\n",
       "      <td>13245</td>\n",
       "      <td>CASSLGLNEQFF</td>\n",
       "      <td>TGTGCCAGCAGTTTAGGGCTCAATGAGCAGTTCTTC</td>\n",
       "      <td>TRBV28*01</td>\n",
       "      <td>.</td>\n",
       "      <td>TRBJ2-1*01</td>\n",
       "      <td>Original_TRUST4</td>\n",
       "    </tr>\n",
       "    <tr>\n",
       "      <th>1</th>\n",
       "      <td>HD_23_S7_L001_original_TRUST4</td>\n",
       "      <td>0.017364</td>\n",
       "      <td>9511</td>\n",
       "      <td>CAIQGAQKLVF</td>\n",
       "      <td>TGTGCAATCCAGGGAGCCCAGAAGCTGGTATTT</td>\n",
       "      <td>TRAV27*01</td>\n",
       "      <td>.</td>\n",
       "      <td>TRAJ54*01</td>\n",
       "      <td>Original_TRUST4</td>\n",
       "    </tr>\n",
       "    <tr>\n",
       "      <th>2</th>\n",
       "      <td>HD_23_S7_L001_original_TRUST4</td>\n",
       "      <td>0.015424</td>\n",
       "      <td>8448</td>\n",
       "      <td>CATGAGNTPLVF</td>\n",
       "      <td>TGTGCTACGGGGGCAGGAAACACACCTCTTGTCTTT</td>\n",
       "      <td>TRAV17*01</td>\n",
       "      <td>.</td>\n",
       "      <td>TRAJ29*01</td>\n",
       "      <td>Original_TRUST4</td>\n",
       "    </tr>\n",
       "    <tr>\n",
       "      <th>3</th>\n",
       "      <td>HD_23_S7_L001_original_TRUST4</td>\n",
       "      <td>0.014476</td>\n",
       "      <td>7929</td>\n",
       "      <td>CAVTLNTGGFKTIF</td>\n",
       "      <td>TGTGCCGTGACCTTGAATACTGGAGGCTTCAAAACTATCTTT</td>\n",
       "      <td>TRAV12-2*03</td>\n",
       "      <td>.</td>\n",
       "      <td>TRAJ9*01</td>\n",
       "      <td>Original_TRUST4</td>\n",
       "    </tr>\n",
       "    <tr>\n",
       "      <th>4</th>\n",
       "      <td>HD_23_S7_L001_original_TRUST4</td>\n",
       "      <td>0.031126</td>\n",
       "      <td>7442</td>\n",
       "      <td>CASSQDGGFHNEQFF</td>\n",
       "      <td>TGCGCCAGCAGCCAAGATGGGGGGTTTCACAATGAGCAGTTCTTC</td>\n",
       "      <td>TRBV4-1*01</td>\n",
       "      <td>TRBD2*01</td>\n",
       "      <td>TRBJ2-1*01</td>\n",
       "      <td>Original_TRUST4</td>\n",
       "    </tr>\n",
       "  </tbody>\n",
       "</table>\n",
       "</div>"
      ],
      "text/plain": [
       "                          sample      freq  #count           cdr3aa  \\\n",
       "0  HD_23_S7_L001_original_TRUST4  0.055397   13245     CASSLGLNEQFF   \n",
       "1  HD_23_S7_L001_original_TRUST4  0.017364    9511      CAIQGAQKLVF   \n",
       "2  HD_23_S7_L001_original_TRUST4  0.015424    8448     CATGAGNTPLVF   \n",
       "3  HD_23_S7_L001_original_TRUST4  0.014476    7929   CAVTLNTGGFKTIF   \n",
       "4  HD_23_S7_L001_original_TRUST4  0.031126    7442  CASSQDGGFHNEQFF   \n",
       "\n",
       "                                          cdr3nt            v         d  \\\n",
       "0           TGTGCCAGCAGTTTAGGGCTCAATGAGCAGTTCTTC    TRBV28*01         .   \n",
       "1              TGTGCAATCCAGGGAGCCCAGAAGCTGGTATTT    TRAV27*01         .   \n",
       "2           TGTGCTACGGGGGCAGGAAACACACCTCTTGTCTTT    TRAV17*01         .   \n",
       "3     TGTGCCGTGACCTTGAATACTGGAGGCTTCAAAACTATCTTT  TRAV12-2*03         .   \n",
       "4  TGCGCCAGCAGCCAAGATGGGGGGTTTCACAATGAGCAGTTCTTC   TRBV4-1*01  TRBD2*01   \n",
       "\n",
       "            j             Type  \n",
       "0  TRBJ2-1*01  Original_TRUST4  \n",
       "1   TRAJ54*01  Original_TRUST4  \n",
       "2   TRAJ29*01  Original_TRUST4  \n",
       "3    TRAJ9*01  Original_TRUST4  \n",
       "4  TRBJ2-1*01  Original_TRUST4  "
      ]
     },
     "execution_count": 2,
     "metadata": {},
     "output_type": "execute_result"
    }
   ],
   "source": [
    "# Specify the path to your data in Google Drive or locally\n",
    "filePath = \"/scratch1/pjaiswal/ipynb_notebooks/master_files/TRUST4_inhouse_all.csv\" # or \"/content/drive/MyDrive/combined_data.csv\"\n",
    "\n",
    "df = pd.read_csv(filePath, low_memory=False, engine=\"c\")\n",
    "\n",
    "optional_fields = ['Type']\n",
    "\n",
    "df.head()"
   ]
  },
  {
   "cell_type": "code",
   "execution_count": 4,
   "metadata": {
    "id": "TM_0L9NMm4J8"
   },
   "outputs": [],
   "source": [
    "# Create a dataframe with reads count for each sample\n",
    "df_reads = df.groupby(['sample', 'Type']).agg(\n",
    "    {'#count': 'sum'}).reset_index().rename(columns={'#count': \"count\"})\n",
    "\n",
    "# Create a dataframe with clonotype count for each sample\n",
    "df_diversity = df.groupby(['sample', 'Type'], sort=False).size().reset_index(name='clonotype_count')"
   ]
  },
  {
   "cell_type": "code",
   "execution_count": 5,
   "metadata": {
    "id": "4s64SXhQBxEL"
   },
   "outputs": [
    {
     "data": {
      "text/html": [
       "<div>\n",
       "<style scoped>\n",
       "    .dataframe tbody tr th:only-of-type {\n",
       "        vertical-align: middle;\n",
       "    }\n",
       "\n",
       "    .dataframe tbody tr th {\n",
       "        vertical-align: top;\n",
       "    }\n",
       "\n",
       "    .dataframe thead th {\n",
       "        text-align: right;\n",
       "    }\n",
       "</style>\n",
       "<table border=\"1\" class=\"dataframe\">\n",
       "  <thead>\n",
       "    <tr style=\"text-align: right;\">\n",
       "      <th></th>\n",
       "      <th>sample</th>\n",
       "      <th>freq</th>\n",
       "      <th>#count</th>\n",
       "      <th>cdr3aa</th>\n",
       "      <th>cdr3nt</th>\n",
       "      <th>v</th>\n",
       "      <th>d</th>\n",
       "      <th>j</th>\n",
       "      <th>Type</th>\n",
       "      <th>clonotype_count</th>\n",
       "    </tr>\n",
       "  </thead>\n",
       "  <tbody>\n",
       "    <tr>\n",
       "      <th>0</th>\n",
       "      <td>HD_23_S7_L001_original_TRUST4</td>\n",
       "      <td>0.055397</td>\n",
       "      <td>13245</td>\n",
       "      <td>CASSLGLNEQFF</td>\n",
       "      <td>TGTGCCAGCAGTTTAGGGCTCAATGAGCAGTTCTTC</td>\n",
       "      <td>TRBV28*01</td>\n",
       "      <td>.</td>\n",
       "      <td>TRBJ2-1*01</td>\n",
       "      <td>Original_TRUST4</td>\n",
       "      <td>384986</td>\n",
       "    </tr>\n",
       "    <tr>\n",
       "      <th>1</th>\n",
       "      <td>HD_23_S7_L001_original_TRUST4</td>\n",
       "      <td>0.017364</td>\n",
       "      <td>9511</td>\n",
       "      <td>CAIQGAQKLVF</td>\n",
       "      <td>TGTGCAATCCAGGGAGCCCAGAAGCTGGTATTT</td>\n",
       "      <td>TRAV27*01</td>\n",
       "      <td>.</td>\n",
       "      <td>TRAJ54*01</td>\n",
       "      <td>Original_TRUST4</td>\n",
       "      <td>384986</td>\n",
       "    </tr>\n",
       "    <tr>\n",
       "      <th>2</th>\n",
       "      <td>HD_23_S7_L001_original_TRUST4</td>\n",
       "      <td>0.015424</td>\n",
       "      <td>8448</td>\n",
       "      <td>CATGAGNTPLVF</td>\n",
       "      <td>TGTGCTACGGGGGCAGGAAACACACCTCTTGTCTTT</td>\n",
       "      <td>TRAV17*01</td>\n",
       "      <td>.</td>\n",
       "      <td>TRAJ29*01</td>\n",
       "      <td>Original_TRUST4</td>\n",
       "      <td>384986</td>\n",
       "    </tr>\n",
       "    <tr>\n",
       "      <th>3</th>\n",
       "      <td>HD_23_S7_L001_original_TRUST4</td>\n",
       "      <td>0.014476</td>\n",
       "      <td>7929</td>\n",
       "      <td>CAVTLNTGGFKTIF</td>\n",
       "      <td>TGTGCCGTGACCTTGAATACTGGAGGCTTCAAAACTATCTTT</td>\n",
       "      <td>TRAV12-2*03</td>\n",
       "      <td>.</td>\n",
       "      <td>TRAJ9*01</td>\n",
       "      <td>Original_TRUST4</td>\n",
       "      <td>384986</td>\n",
       "    </tr>\n",
       "    <tr>\n",
       "      <th>4</th>\n",
       "      <td>HD_23_S7_L001_original_TRUST4</td>\n",
       "      <td>0.031126</td>\n",
       "      <td>7442</td>\n",
       "      <td>CASSQDGGFHNEQFF</td>\n",
       "      <td>TGCGCCAGCAGCCAAGATGGGGGGTTTCACAATGAGCAGTTCTTC</td>\n",
       "      <td>TRBV4-1*01</td>\n",
       "      <td>TRBD2*01</td>\n",
       "      <td>TRBJ2-1*01</td>\n",
       "      <td>Original_TRUST4</td>\n",
       "      <td>384986</td>\n",
       "    </tr>\n",
       "    <tr>\n",
       "      <th>...</th>\n",
       "      <td>...</td>\n",
       "      <td>...</td>\n",
       "      <td>...</td>\n",
       "      <td>...</td>\n",
       "      <td>...</td>\n",
       "      <td>...</td>\n",
       "      <td>...</td>\n",
       "      <td>...</td>\n",
       "      <td>...</td>\n",
       "      <td>...</td>\n",
       "    </tr>\n",
       "    <tr>\n",
       "      <th>13475809</th>\n",
       "      <td>RS_3_JB_shuffle_TRUST4</td>\n",
       "      <td>0.000016</td>\n",
       "      <td>1</td>\n",
       "      <td>out_of_frame</td>\n",
       "      <td>TGTGCTGTGAGTGATCTTAGGCTCTGGCAACACAGGCAACCTAATCTTT</td>\n",
       "      <td>TRAV8-6*01</td>\n",
       "      <td>.</td>\n",
       "      <td>TRAJ37*01</td>\n",
       "      <td>Shuffle_TRUST4</td>\n",
       "      <td>46101</td>\n",
       "    </tr>\n",
       "    <tr>\n",
       "      <th>13475810</th>\n",
       "      <td>RS_3_JB_shuffle_TRUST4</td>\n",
       "      <td>0.000016</td>\n",
       "      <td>1</td>\n",
       "      <td>CAASGGNNRLAF</td>\n",
       "      <td>TGTGCAGCAAGTGGAGGGAACAACAGACTCGCTTTT</td>\n",
       "      <td>TRAV13-1*02</td>\n",
       "      <td>.</td>\n",
       "      <td>TRAJ7*01</td>\n",
       "      <td>Shuffle_TRUST4</td>\n",
       "      <td>46101</td>\n",
       "    </tr>\n",
       "    <tr>\n",
       "      <th>13475811</th>\n",
       "      <td>RS_3_JB_shuffle_TRUST4</td>\n",
       "      <td>0.000016</td>\n",
       "      <td>1</td>\n",
       "      <td>CAVTIGGGKLIF</td>\n",
       "      <td>TGTGCTGTGACGATCGGGGGAGGAAAGCTTATCTTC</td>\n",
       "      <td>TRAV21*01</td>\n",
       "      <td>.</td>\n",
       "      <td>TRAJ23*01</td>\n",
       "      <td>Shuffle_TRUST4</td>\n",
       "      <td>46101</td>\n",
       "    </tr>\n",
       "    <tr>\n",
       "      <th>13475812</th>\n",
       "      <td>RS_3_JB_shuffle_TRUST4</td>\n",
       "      <td>0.000016</td>\n",
       "      <td>1</td>\n",
       "      <td>CATDGSNDYKLSF</td>\n",
       "      <td>TGTGCTACGGATGGGTCTAACGACTACAAGCTCAGCTTT</td>\n",
       "      <td>TRAV17*01</td>\n",
       "      <td>.</td>\n",
       "      <td>TRAJ20*01</td>\n",
       "      <td>Shuffle_TRUST4</td>\n",
       "      <td>46101</td>\n",
       "    </tr>\n",
       "    <tr>\n",
       "      <th>13475813</th>\n",
       "      <td>RS_3_JB_shuffle_TRUST4</td>\n",
       "      <td>0.000028</td>\n",
       "      <td>1</td>\n",
       "      <td>CASRITLSGANTGELFC</td>\n",
       "      <td>TGTGCCAGCAGGATAACCCTTAGCGGGGCAAACACCGGGGAGCTGT...</td>\n",
       "      <td>TRBV27*01</td>\n",
       "      <td>TRBD2*01</td>\n",
       "      <td>TRBJ2-2*01</td>\n",
       "      <td>Shuffle_TRUST4</td>\n",
       "      <td>46101</td>\n",
       "    </tr>\n",
       "  </tbody>\n",
       "</table>\n",
       "<p>13475814 rows × 10 columns</p>\n",
       "</div>"
      ],
      "text/plain": [
       "                                 sample      freq  #count             cdr3aa  \\\n",
       "0         HD_23_S7_L001_original_TRUST4  0.055397   13245       CASSLGLNEQFF   \n",
       "1         HD_23_S7_L001_original_TRUST4  0.017364    9511        CAIQGAQKLVF   \n",
       "2         HD_23_S7_L001_original_TRUST4  0.015424    8448       CATGAGNTPLVF   \n",
       "3         HD_23_S7_L001_original_TRUST4  0.014476    7929     CAVTLNTGGFKTIF   \n",
       "4         HD_23_S7_L001_original_TRUST4  0.031126    7442    CASSQDGGFHNEQFF   \n",
       "...                                 ...       ...     ...                ...   \n",
       "13475809         RS_3_JB_shuffle_TRUST4  0.000016       1       out_of_frame   \n",
       "13475810         RS_3_JB_shuffle_TRUST4  0.000016       1       CAASGGNNRLAF   \n",
       "13475811         RS_3_JB_shuffle_TRUST4  0.000016       1       CAVTIGGGKLIF   \n",
       "13475812         RS_3_JB_shuffle_TRUST4  0.000016       1      CATDGSNDYKLSF   \n",
       "13475813         RS_3_JB_shuffle_TRUST4  0.000028       1  CASRITLSGANTGELFC   \n",
       "\n",
       "                                                     cdr3nt            v  \\\n",
       "0                      TGTGCCAGCAGTTTAGGGCTCAATGAGCAGTTCTTC    TRBV28*01   \n",
       "1                         TGTGCAATCCAGGGAGCCCAGAAGCTGGTATTT    TRAV27*01   \n",
       "2                      TGTGCTACGGGGGCAGGAAACACACCTCTTGTCTTT    TRAV17*01   \n",
       "3                TGTGCCGTGACCTTGAATACTGGAGGCTTCAAAACTATCTTT  TRAV12-2*03   \n",
       "4             TGCGCCAGCAGCCAAGATGGGGGGTTTCACAATGAGCAGTTCTTC   TRBV4-1*01   \n",
       "...                                                     ...          ...   \n",
       "13475809  TGTGCTGTGAGTGATCTTAGGCTCTGGCAACACAGGCAACCTAATCTTT   TRAV8-6*01   \n",
       "13475810               TGTGCAGCAAGTGGAGGGAACAACAGACTCGCTTTT  TRAV13-1*02   \n",
       "13475811               TGTGCTGTGACGATCGGGGGAGGAAAGCTTATCTTC    TRAV21*01   \n",
       "13475812            TGTGCTACGGATGGGTCTAACGACTACAAGCTCAGCTTT    TRAV17*01   \n",
       "13475813  TGTGCCAGCAGGATAACCCTTAGCGGGGCAAACACCGGGGAGCTGT...    TRBV27*01   \n",
       "\n",
       "                 d           j             Type  clonotype_count  \n",
       "0                .  TRBJ2-1*01  Original_TRUST4           384986  \n",
       "1                .   TRAJ54*01  Original_TRUST4           384986  \n",
       "2                .   TRAJ29*01  Original_TRUST4           384986  \n",
       "3                .    TRAJ9*01  Original_TRUST4           384986  \n",
       "4         TRBD2*01  TRBJ2-1*01  Original_TRUST4           384986  \n",
       "...            ...         ...              ...              ...  \n",
       "13475809         .   TRAJ37*01   Shuffle_TRUST4            46101  \n",
       "13475810         .    TRAJ7*01   Shuffle_TRUST4            46101  \n",
       "13475811         .   TRAJ23*01   Shuffle_TRUST4            46101  \n",
       "13475812         .   TRAJ20*01   Shuffle_TRUST4            46101  \n",
       "13475813  TRBD2*01  TRBJ2-2*01   Shuffle_TRUST4            46101  \n",
       "\n",
       "[13475814 rows x 10 columns]"
      ]
     },
     "execution_count": 5,
     "metadata": {},
     "output_type": "execute_result"
    }
   ],
   "source": [
    "# Add clonotype count of each sample as a column to create a new dataframe\n",
    "df = pd.merge(df, df_diversity, on=['sample', 'Type'])\n",
    "\n",
    "df"
   ]
  },
  {
   "cell_type": "markdown",
   "metadata": {
    "id": "Bs6F2zfmmogx"
   },
   "source": [
    "Diversity analysis 1 - Shannon-Wiener index [shannon_wiener_index]"
   ]
  },
  {
   "cell_type": "code",
   "execution_count": 6,
   "metadata": {},
   "outputs": [],
   "source": [
    "df['#count']=pd.to_numeric(df['#count'], errors='coerce')\n",
    "df['freq']=pd.to_numeric(df['freq'], errors='coerce')"
   ]
  },
  {
   "cell_type": "code",
   "execution_count": 7,
   "metadata": {
    "id": "XgHqKRKymg79"
   },
   "outputs": [],
   "source": [
    "# Calculation step 1\n",
    "df['shannon_index'] = -(df['freq']*np.log(df['freq']))\n",
    "\n",
    "# Calculation step 2\n",
    "df_shannon = df.groupby(['sample', 'Type']).agg(\n",
    "    {'shannon_index': 'sum'}).reset_index().rename(columns={'': \"shannon_index\"})\n",
    "\n",
    "# Calculation step 3, Shannon-Wienex index is shown in the shannon_wiener_index column\n",
    "df_shannon['shannon_wiener_index'] = np.exp(df_shannon['shannon_index'])\n",
    "df_shannon_index = df_shannon[['sample', 'Type', 'shannon_wiener_index']]"
   ]
  },
  {
   "cell_type": "markdown",
   "metadata": {
    "id": "hyT94i0vmwRT"
   },
   "source": [
    "Diversity analysis 2 - Normalized Shannon-Wiener index [normalized_shannon_wiener_index]"
   ]
  },
  {
   "cell_type": "code",
   "execution_count": 8,
   "metadata": {
    "id": "wfM-LCoDmwxH"
   },
   "outputs": [],
   "source": [
    "# Calculation step 1 - merge df_shannon and df_diversity (which contains clonotype counts)\n",
    "df_shannon = pd.merge(df_shannon, df_diversity, on=[\n",
    "                      'sample', 'Type'])\n",
    "\n",
    "# Calculation step 2 - calculate normalized Shannon-Wienex index, it is shown in the normalized_shannon_wiener_index column\n",
    "df_shannon['normalized_shannon_wiener_index'] = df_shannon['shannon_index'] / \\\n",
    "    np.log(df_shannon['clonotype_count'])\n",
    "\n",
    "df_norm_shannon = df_shannon[['sample', 'Type','shannon_wiener_index', 'normalized_shannon_wiener_index']]"
   ]
  },
  {
   "cell_type": "markdown",
   "metadata": {
    "id": "4V8KvFgQnDfR"
   },
   "source": [
    "Diversity analysis 3 - Inverse Simpson index [inverse_simpson_index]"
   ]
  },
  {
   "cell_type": "code",
   "execution_count": 9,
   "metadata": {
    "id": "zfL2ttlAnEXi"
   },
   "outputs": [],
   "source": [
    "# Calculation step 1\n",
    "df['simpson_index'] = (df['freq']**2)\n",
    "\n",
    "# Calculation step 2\n",
    "df_simpson = df.groupby(['sample', 'Type']).agg(\n",
    "    {'simpson_index': 'sum'}).reset_index().rename(columns={'': \"simpson_index\"})\n",
    "\n",
    "# Calculation step 3, Inverse Simpson index is shown in the inverse_simpson_index column\n",
    "df_simpson['inverse_simpson_index'] = 1/df_simpson['simpson_index']"
   ]
  },
  {
   "cell_type": "markdown",
   "metadata": {
    "id": "8OG6dxToxMP_"
   },
   "source": [
    "Diversity analysis 4 - Gini Simpson index [gini_simpson_index]\n"
   ]
  },
  {
   "cell_type": "code",
   "execution_count": 10,
   "metadata": {
    "id": "NEaKFHevxRx6"
   },
   "outputs": [],
   "source": [
    "df_simpson['gini_simpson_index'] = 1-df_simpson['simpson_index']"
   ]
  },
  {
   "cell_type": "markdown",
   "metadata": {
    "id": "ZtIH43jnrvLz"
   },
   "source": [
    "Diversity analysis 5 - D50 index [D50_index]\n"
   ]
  },
  {
   "cell_type": "code",
   "execution_count": 11,
   "metadata": {
    "id": "EZITswYRT4HM"
   },
   "outputs": [],
   "source": [
    "# Create an empty dataframe for storing results\n",
    "df_D50 = pd.DataFrame()\n",
    "\n",
    "# Create a list of the sample names\n",
    "samples = set(df['sample'])\n",
    "\n",
    "for sample in samples:\n",
    "\n",
    "    # Store the rows related to the sample\n",
    "    df_temp = df.loc[df['sample'] == sample]\n",
    "\n",
    "    # Sort the sample clonotypes by frequency in descending order\n",
    "    df_temp = df_temp.sort_values(by='freq', ascending=False)\n",
    "\n",
    "    # Create a column to store the order\n",
    "    df_temp['clonotype_number'] = np.arange(df_temp.shape[0])+1\n",
    "\n",
    "    # Compute and store the cumulative sum of the frequencies\n",
    "    df_temp['accum_freq'] = df_temp['freq'].cumsum()\n",
    "\n",
    "    # Find out the first accumulated frequency that is above 50%\n",
    "    df_temp = df_temp.loc[(df_temp['accum_freq'] >= 0.5)\n",
    "                          & (df_temp['accum_freq'] <= 0.6)]\n",
    "    df_temp = df_temp.head(1)\n",
    "\n",
    "    # Calculate D50 index and store in the result dataframe\n",
    "    df_temp = df_temp.head(1)\n",
    "    df_temp['D50_index'] = df_temp['clonotype_number'] / \\\n",
    "        df_temp['clonotype_count']*100\n",
    "    df_D50 = pd.concat([df_D50, df_temp])\n",
    "\n",
    "df_D50 = df_D50[['sample', 'Type', 'D50_index']]"
   ]
  },
  {
   "cell_type": "markdown",
   "metadata": {
    "id": "9e4Vj3PQiSpp"
   },
   "source": [
    "Diversity analysis 6 - Chao1 estimate [chao1] and standard deviation [chao1_SD]\n",
    "\n",
    "\n",
    "\n",
    "\n",
    "\n"
   ]
  },
  {
   "cell_type": "code",
   "execution_count": 12,
   "metadata": {
    "id": "WIo-FtKeMXkb"
   },
   "outputs": [],
   "source": [
    "# Create an empty dataframe for storing results\n",
    "df_chao1 = pd.DataFrame()\n",
    "\n",
    "# Get the columns needed for calculation from df\n",
    "df1 = df[['sample', '#count', 'clonotype_count', 'Type']]\n",
    "\n",
    "# Create a list of the sample names\n",
    "samples = set(df1['sample'])\n",
    "\n",
    "for sample in samples:\n",
    "\n",
    "    # Store the rows related to the sample\n",
    "    df_temp = df1.loc[df1['sample'] == sample]\n",
    "\n",
    "    # Count singleton in the sample\n",
    "    singleton = len(df_temp.loc[df_temp['#count'] == 1])\n",
    "\n",
    "    # Count doubleton in the sample\n",
    "    doubleton = len(df_temp.loc[df_temp['#count'] == 2])\n",
    "\n",
    "    # Calculate Chao1 estimate\n",
    "    chao1 = int(df_temp['clonotype_count'].values[0]) + \\\n",
    "        ((singleton * (singleton-1))/(2*(doubleton+1)))\n",
    "    df_temp['chao1'] = chao1\n",
    "\n",
    "    # Calculate Chao1 estimate standard deviation\n",
    "    step1 = 1/4*((singleton/doubleton)**4)\n",
    "    step2 = (singleton/doubleton)**3\n",
    "    step3 = 1/2*((singleton/doubleton)**2)\n",
    "    step4 = doubleton * (step1+step2+step3)\n",
    "    df_temp['chao1_SD'] = step4**(1/2)\n",
    "\n",
    "    # Store the results in the result dataframe\n",
    "    df_chao1 = pd.concat([df_chao1, df_temp], axis=0, sort=False)\n",
    "\n",
    "    # Remove the duplicates results in the result dataframe\n",
    "    df_chao1 = df_chao1[['sample', 'Type', 'chao1', 'chao1_SD']]\n",
    "    df_chao1 = df_chao1.drop_duplicates(subset=['sample'], keep='first')"
   ]
  },
  {
   "cell_type": "markdown",
   "metadata": {
    "id": "PV7hqBMDAVsf"
   },
   "source": [
    "Diversity analysis 7 - Gini coefficient [gini_coefficient]"
   ]
  },
  {
   "cell_type": "code",
   "execution_count": 13,
   "metadata": {
    "id": "XKfpM0-xTf3Z"
   },
   "outputs": [],
   "source": [
    "# Create an empty dataframe for storing results\n",
    "df_gini = pd.DataFrame()\n",
    "\n",
    "# Create a list of the sample names\n",
    "samples = set(df['sample'])\n",
    "\n",
    "for sample in samples:\n",
    "\n",
    "    # Store the rows related to the sample\n",
    "    df_temp = df.loc[df['sample'] == sample]\n",
    "\n",
    "    def gini(list_of_values):\n",
    "        sorted_list = sorted(list_of_values)\n",
    "        height, area = 0, 0\n",
    "        for value in sorted_list:\n",
    "            height += value\n",
    "            area += height - value / 2.\n",
    "        fair_area = height * len(list_of_values) / 2.\n",
    "        return (fair_area - area) / fair_area\n",
    "\n",
    "    # Calculate gini coefficient\n",
    "    df_temp['gini_coefficient'] = gini(df_temp['freq'])\n",
    "\n",
    "    # Store the results in the result dataframe\n",
    "    df_gini = pd.concat([df_gini, df_temp], sort=False)\n",
    "\n",
    "    # Remove the duplicates results in the result dataframe\n",
    "    df_gini = df_gini[['sample', 'Type', 'gini_coefficient']]\n",
    "    df_gini = df_gini.drop_duplicates(subset=['sample'], keep='first')"
   ]
  },
  {
   "cell_type": "markdown",
   "metadata": {
    "id": "rDtm47SLrtsY"
   },
   "source": [
    "Diversity analysis 8 - Summary table for the diversity analysis"
   ]
  },
  {
   "cell_type": "code",
   "execution_count": 16,
   "metadata": {
    "id": "-G01YeresGRR"
   },
   "outputs": [],
   "source": [
    "# Create a dataframe that combines all the diversity analysis\n",
    "dfs = [df_norm_shannon, df_simpson, df_D50, df_chao1, df_gini]\n",
    "\n",
    "df_combined = pd.merge(dfs[0], dfs[1], left_on=['sample', 'Type'], right_on=[\n",
    "                       'sample', 'Type'], how='outer')\n",
    "\n",
    "for d in dfs[2:]:\n",
    "    df_combined = pd.merge(df_combined, d, left_on=['sample', 'Type'], right_on=[\n",
    "                           'sample', 'Type'], how='outer')\n",
    "\n",
    "df_combined\n",
    "df_combined.to_csv('/scratch1/pjaiswal/figures/diversity_metrics_TRUST4_inhouse.csv', index=False)"
   ]
  },
  {
   "cell_type": "markdown",
   "metadata": {
    "id": "7LQwMFNxsF15"
   },
   "source": [
    "Diversity analysis 9 - Statistical analysis of diversity metrics"
   ]
  },
  {
   "cell_type": "markdown",
   "metadata": {
    "id": "z5e94C_rtEN4"
   },
   "source": [
    "Diversity 9.1 - Mean or median of diversity metrics among groups\n",
    "1.   if the dataset is normally distributed, calculate mean\n",
    "2.   if the dataset is not normally distributed, calculate median"
   ]
  },
  {
   "cell_type": "code",
   "execution_count": 18,
   "metadata": {
    "id": "8GWc40-itn0G"
   },
   "outputs": [],
   "source": [
    "# Calculate the mean among two groups\n",
    "df_combined_mean = pd.DataFrame(columns=['Type'])\n",
    "\n",
    "for column in df_combined[['shannon_wiener_index', 'normalized_shannon_wiener_index', 'inverse_simpson_index', 'gini_simpson_index', 'D50_index', 'chao1', 'gini_coefficient']]:\n",
    "    df_temp = df_combined.groupby('Type')[\n",
    "        column].mean().reset_index()\n",
    "    df_combined_mean = pd.merge(df_combined_mean, df_temp, on=[\n",
    "                                'Type'], how='right')\n",
    "\n",
    "df_combined_mean\n",
    "df_combined_mean.to_csv('/scratch1/pjaiswal/figures/mean_diversity_TRUST4_inhouse.csv', index=False)"
   ]
  },
  {
   "cell_type": "code",
   "execution_count": 19,
   "metadata": {
    "id": "s2AgGAImxOp9",
    "scrolled": true
   },
   "outputs": [
    {
     "data": {
      "text/html": [
       "<div>\n",
       "<style scoped>\n",
       "    .dataframe tbody tr th:only-of-type {\n",
       "        vertical-align: middle;\n",
       "    }\n",
       "\n",
       "    .dataframe tbody tr th {\n",
       "        vertical-align: top;\n",
       "    }\n",
       "\n",
       "    .dataframe thead th {\n",
       "        text-align: right;\n",
       "    }\n",
       "</style>\n",
       "<table border=\"1\" class=\"dataframe\">\n",
       "  <thead>\n",
       "    <tr style=\"text-align: right;\">\n",
       "      <th></th>\n",
       "      <th>Type</th>\n",
       "      <th>shannon_wiener_index</th>\n",
       "      <th>normalized_shannon_wiener_index</th>\n",
       "      <th>inverse_simpson_index</th>\n",
       "      <th>gini_simpson_index</th>\n",
       "      <th>D50_index</th>\n",
       "      <th>chao1</th>\n",
       "      <th>gini_coefficient</th>\n",
       "    </tr>\n",
       "  </thead>\n",
       "  <tbody>\n",
       "    <tr>\n",
       "      <th>0</th>\n",
       "      <td>Original_Mixcr</td>\n",
       "      <td>3.506830e+07</td>\n",
       "      <td>1.630265</td>\n",
       "      <td>231.682593</td>\n",
       "      <td>0.995610</td>\n",
       "      <td>1.917199</td>\n",
       "      <td>98311.500902</td>\n",
       "      <td>NaN</td>\n",
       "    </tr>\n",
       "    <tr>\n",
       "      <th>1</th>\n",
       "      <td>Shuffle_Mixcr</td>\n",
       "      <td>3.493105e+07</td>\n",
       "      <td>1.630902</td>\n",
       "      <td>231.972209</td>\n",
       "      <td>0.995622</td>\n",
       "      <td>1.930717</td>\n",
       "      <td>98438.482059</td>\n",
       "      <td>NaN</td>\n",
       "    </tr>\n",
       "  </tbody>\n",
       "</table>\n",
       "</div>"
      ],
      "text/plain": [
       "             Type  shannon_wiener_index  normalized_shannon_wiener_index  \\\n",
       "0  Original_Mixcr          3.506830e+07                         1.630265   \n",
       "1   Shuffle_Mixcr          3.493105e+07                         1.630902   \n",
       "\n",
       "   inverse_simpson_index  gini_simpson_index  D50_index         chao1  \\\n",
       "0             231.682593            0.995610   1.917199  98311.500902   \n",
       "1             231.972209            0.995622   1.930717  98438.482059   \n",
       "\n",
       "   gini_coefficient  \n",
       "0               NaN  \n",
       "1               NaN  "
      ]
     },
     "execution_count": 19,
     "metadata": {},
     "output_type": "execute_result"
    }
   ],
   "source": [
    "# Calculate the median among two groups\n",
    "df_combined_median = pd.DataFrame(columns=['Type'])\n",
    "for column in df_combined[['shannon_wiener_index', 'normalized_shannon_wiener_index', 'inverse_simpson_index', 'gini_simpson_index', 'D50_index', 'chao1', 'gini_coefficient']]:\n",
    "    df_temp = df_combined.groupby('Type')[\n",
    "        column].median().reset_index()\n",
    "    df_combined_median = pd.merge(df_combined_median, df_temp, on=[\n",
    "                                  'Type'], how='right')\n",
    "\n",
    "df_combined_median"
   ]
  },
  {
   "cell_type": "markdown",
   "metadata": {
    "id": "YFd5BVWlDoq_"
   },
   "source": [
    "Diversity analysis 9.2 - Test if the certain diversity metric is normally distributed\n",
    "1.   the null hypothesis here is normality\n",
    "2.   if the p value is greater than 0.05, we cannot reject the null hypothesis (it is a normal distribution). If the p value is smaller than 0.05, we reject the null hypothesis (it is not a normal distribution)\n",
    "3.   change the \"shannon_wiener_index\" to other metrics that you are interested in"
   ]
  },
  {
   "cell_type": "code",
   "execution_count": 19,
   "metadata": {
    "id": "3Ar-jp29C83I"
   },
   "outputs": [
    {
     "data": {
      "text/plain": [
       "NormaltestResult(statistic=78.09820911042374, pvalue=1.0994851509945878e-17)"
      ]
     },
     "execution_count": 19,
     "metadata": {},
     "output_type": "execute_result"
    }
   ],
   "source": [
    "x = stats.normaltest(df_combined['shannon_wiener_index'])\n",
    "x"
   ]
  },
  {
   "cell_type": "markdown",
   "metadata": {
    "id": "f32EBKhih6q2"
   },
   "source": [
    "Diversity analysis 9.3 - Stats test\n",
    "1.  if the dataset is normally distributed, use t-test (stats.ttest_ind)\n",
    "\n",
    "*   change the group1, group2 to the groups/samples that you are interested in\n",
    "*   change the \"shannon_wiener_index\" to other metrics that you are interested in\n",
    "\n",
    "2.  if the dataset is not normally distributed, use Wilcoxon rank-sum test (stats.ranksums)\n",
    "*   change the group1, group2 to the groups/samples that you are interested in\n",
    "*   change the \"shannon_wiener_index\" to other metrics that you are interested in"
   ]
  },
  {
   "cell_type": "code",
   "execution_count": 20,
   "metadata": {
    "id": "eB5ukA4oilsh"
   },
   "outputs": [
    {
     "name": "stderr",
     "output_type": "stream",
     "text": [
      "/home1/pjaiswal/.local/lib/python3.12/site-packages/scipy/stats/_stats_py.py:9154: RuntimeWarning: invalid value encountered in scalar divide\n",
      "  z = (s - expected) / np.sqrt(n1*n2*(n1+n2+1)/12.0)\n"
     ]
    },
    {
     "data": {
      "text/plain": [
       "RanksumsResult(statistic=nan, pvalue=nan)"
      ]
     },
     "execution_count": 20,
     "metadata": {},
     "output_type": "execute_result"
    }
   ],
   "source": [
    "df_group1 = df_combined[df_combined['Type'] == True]\n",
    "df_group2 = df_combined[df_combined['Type'] == False]\n",
    "\n",
    "stats.ranksums(df_group1['shannon_wiener_index'],df_group2['shannon_wiener_index'])"
   ]
  },
  {
   "cell_type": "markdown",
   "metadata": {
    "id": "vBGAPH1wU-k0"
   },
   "source": [
    "Diversity analysis 10 - Visualization\n",
    "1.   change x = 'hospitalized' to the diversity index that you are interested\n",
    "2.   change y = 'shannon_wiener_index' to the index that you desire\n",
    "3.   change the violin plot (sns.violinplot) to the plot type that you are interested in, includes strip plot (sns.stripplot), swarm plot (sns.swarmplot), box plot (sns.boxplot), boxen plot (sns.boxenplot), point plot (sns.pointplot), and bar plot (sns.barplot)\n",
    "4.   set x label to the feature that you choose\n",
    "5.   set y label to the index that you choose"
   ]
  },
  {
   "cell_type": "code",
   "execution_count": 22,
   "metadata": {
    "id": "wtOHFMS3U6-V"
   },
   "outputs": [
    {
     "data": {
      "image/png": "[encoded data removed]",
      "text/plain": [
       "<Figure size 1000x1000 with 1 Axes>"
      ]
     },
     "metadata": {},
     "output_type": "display_data"
    }
   ],
   "source": [
    "ax = plt.subplots(figsize=(10, 10))\n",
    "\n",
    "ax = sns.barplot(x='Type',\n",
    "                 y='shannon_wiener_index', data=df_combined)\n",
    "\n",
    "ax.set_xlabel('Type', fontsize=20)\n",
    "ax.set_ylabel('shannon_wiener_index', fontsize=20)\n",
    "plt.xticks(fontsize=20)\n",
    "plt.yticks(fontsize=20)\n",
    "sns.despine()\n",
    "\n",
    "plt.show()"
   ]
  },
  {
   "cell_type": "code",
   "execution_count": null,
   "metadata": {},
   "outputs": [],
   "source": []
  }
 ],
 "metadata": {
  "accelerator": "GPU",
  "colab": {
   "name": "Diversity analysis_COVID.ipynb",
   "provenance": []
  },
  "kernelspec": {
   "display_name": "Python 3.12.2 (default)",
   "language": "python",
   "name": "python3"
  },
  "language_info": {
   "codemirror_mode": {
    "name": "ipython",
    "version": 3
   },
   "file_extension": ".py",
   "mimetype": "text/x-python",
   "name": "python",
   "nbconvert_exporter": "python",
   "pygments_lexer": "ipython3",
   "version": "3.12.2"
  }
 },
 "nbformat": 4,
 "nbformat_minor": 4
}
